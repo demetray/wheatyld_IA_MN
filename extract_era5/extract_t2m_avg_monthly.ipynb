{
 "cells": [
  {
   "cell_type": "markdown",
   "id": "e249d44f",
   "metadata": {},
   "source": [
    "extract_t2m_avg_monthly.ipynb: extract average monthly temperature at 2m elevation for each month for every data point in contiguous US that gro-intelligence provides crop yield for\n"
   ]
  },
  {
   "cell_type": "code",
   "execution_count": 1,
   "id": "6e8f31ab",
   "metadata": {},
   "outputs": [],
   "source": [
    "import xarray as xr\n",
    "import os\n",
    "import pandas as pd"
   ]
  },
  {
   "cell_type": "code",
   "execution_count": null,
   "id": "7dbcf6e1",
   "metadata": {},
   "outputs": [],
   "source": [
    "# path to annual wheat yields data\n",
    "path = '/Users/demetrayancopoulos/Desktop/SML310/final_project/gro_ylds/wheatf_mn_ia.xlsx'\n",
    "y = pd.read_excel(path)"
   ]
  },
  {
   "cell_type": "code",
   "execution_count": null,
   "id": "4b0bf2cf",
   "metadata": {
    "scrolled": true
   },
   "outputs": [],
   "source": [
    "# path to monthly t2m data\n",
    "path = '/Users/demetrayancopoulos/Desktop/SML310/final_project/era5/monthly_t2m.nc'\n",
    "dsm = xr.open_dataset(path)"
   ]
  },
  {
   "cell_type": "markdown",
   "id": "e9854021",
   "metadata": {},
   "source": [
    "Round to the nearest 1/4:\n",
    "\n",
    "https://stackoverflow.com/questions/33257635/python-round-to-nearest-0-25"
   ]
  },
  {
   "cell_type": "code",
   "execution_count": 7,
   "id": "ea19212a",
   "metadata": {},
   "outputs": [],
   "source": [
    "def x_rnd(x):\n",
    "    return round(x*4)/4"
   ]
  },
  {
   "cell_type": "code",
   "execution_count": 20,
   "id": "a8c8a1aa",
   "metadata": {},
   "outputs": [],
   "source": [
    "cols = ['yr', 'lat', 'lon', 'jan', 'feb', 'mar', 'apr', 'may', 'jun', 'jul', 'aug', 'sep', 'oct', 'nov', 'dec']\n",
    "temps = pd.DataFrame(index = range(0, len(y.index)), columns=cols)\n",
    "\n",
    "for ix in y.index:\n",
    "    \n",
    "    lat = y.loc[ix].lat     # retrieve latitude at this entry\n",
    "    lat = x_rnd(lat)       # round lat coord to nearest 0.25\n",
    "    \n",
    "    lon = y.loc[ix].lon     # retrive longitude at this entry\n",
    "    lon = x_rnd(lon)        # round lon coord to nearest 0.25\n",
    "    \n",
    "    yr = y.loc[ix].StartDate[0] + y.loc[ix].StartDate[1] + y.loc[ix].StartDate[2] + y.loc[ix].StartDate[3]\n",
    "    \n",
    "    # t2m at this lat/lon/yr\n",
    "    t2m = dsm.t2m.sel(latitude=lat, longitude=lon)\n",
    "    \n",
    "    # store monthly average t2m for this lat/lon/yr\n",
    "    for i in range(1, 13):\n",
    "        t = yr + '-' + str(i)\n",
    "        temps.iat[ix, i+2] = t2m.sel(time=t).values[0]\n",
    "    \n",
    "    # store yr for this point\n",
    "    col = 0\n",
    "    temps.iat[ix, col] = yr\n",
    "    \n",
    "    # store latitude for this point\n",
    "    col = 1\n",
    "    temps.iat[ix, col] = lat\n",
    "    \n",
    "    # store longitude for this point\n",
    "    col = 2\n",
    "    temps.iat[ix, col] = lon\n"
   ]
  }
 ],
 "metadata": {
  "kernelspec": {
   "display_name": "Python 3",
   "language": "python",
   "name": "python3"
  },
  "language_info": {
   "codemirror_mode": {
    "name": "ipython",
    "version": 3
   },
   "file_extension": ".py",
   "mimetype": "text/x-python",
   "name": "python",
   "nbconvert_exporter": "python",
   "pygments_lexer": "ipython3",
   "version": "3.7.11"
  }
 },
 "nbformat": 4,
 "nbformat_minor": 5
}
