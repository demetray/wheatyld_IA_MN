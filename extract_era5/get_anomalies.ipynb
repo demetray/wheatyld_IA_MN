{
 "cells": [
  {
   "cell_type": "code",
   "execution_count": 8,
   "id": "1493ca14",
   "metadata": {},
   "outputs": [],
   "source": [
    "import pandas as pd\n",
    "import seaborn as sns\n",
    "from sklearn.model_selection import train_test_split"
   ]
  },
  {
   "cell_type": "markdown",
   "id": "d7c17032",
   "metadata": {},
   "source": [
    "## Get monthly mean temp anomaly based on location"
   ]
  },
  {
   "cell_type": "code",
   "execution_count": 9,
   "id": "73471363",
   "metadata": {},
   "outputs": [],
   "source": [
    "# path to all final input data\n",
    "fdir = '/Users/demetrayancopoulos/Desktop/SML310/final_project/era5/final_input_data/'\n",
    "\n",
    "# path to all the data files\n",
    "fname1 = 'monthly_avg_temp.xlsx'\n",
    "fname2 = 'monthly_max_t2m.xlsx'\n",
    "fname3 = 'monthly_min_t2m.xlsx'\n",
    "fname4 = 'monthly_precip_rate.xlsx'\n",
    "fname5 = 'monthly_uv_max.xlsx'\n",
    "fname6 = 'monthly_uv_mean.xlsx'\n",
    "fname7 = 'monthly_uv_min.xlsx'\n",
    "fname8 = 'monthly_rh_mean.xlsx'\n",
    "\n",
    "# file name for output at end of script\n",
    "sfile1 = 'monthly_avgt2m_anom.xlsx'\n",
    "sfile2 = 'monthly_maxt2m_anom.xlsx'\n",
    "sfile3 = 'monthly_mint2m_anom.xlsx'\n",
    "sfile4 = 'monthly_precipr_anom.xlsx'\n",
    "sfile5 = 'monthly_uvmax_anom.xlsx'\n",
    "sfile6 = 'monthly_uvmean_anom.xlsx'\n",
    "sfile7 = 'monthly_uv_min_anom.xlsx'\n",
    "sfile8 = 'monthly_rh_mean_anom.xlsx'\n",
    "\n",
    "# choose which file to get anomaly for\n",
    "fname = fname8\n",
    "sfile = sfile8\n",
    "\n",
    "# read in data file\n",
    "df = pd.read_excel(fdir+fname)"
   ]
  },
  {
   "cell_type": "code",
   "execution_count": 10,
   "id": "138d331b",
   "metadata": {},
   "outputs": [],
   "source": [
    "# set index of dataframe as lat, lon tuple\n",
    "df['coords'] = list(zip(df.lat, df.lon))\n",
    "df = df.set_index('coords')"
   ]
  },
  {
   "cell_type": "code",
   "execution_count": 11,
   "id": "6989ef6c",
   "metadata": {},
   "outputs": [],
   "source": [
    "# calculate expected value of parameter at each location for each month based on all years of data\n",
    "expval = df.groupby(['lat', 'lon']).mean()"
   ]
  },
  {
   "cell_type": "code",
   "execution_count": 12,
   "id": "0c6f202b",
   "metadata": {},
   "outputs": [],
   "source": [
    "# initialize anomaly dataframe\n",
    "anom = pd.DataFrame([], columns = ['lat', 'lon', 'yr', 'jan', 'feb', 'mar', 'apr', 'may', 'jun', 'jul', 'aug', 'sep', 'oct', 'nov', 'dec'])\n",
    "anom = anom.set_index(['lat', 'lon'])\n",
    "\n",
    "# subtract expected value of parameter at that location from value at that location and time\n",
    "row = 0\n",
    "for ix in df.index:\n",
    "    anomix = df.iloc[row] - expval.loc[ix[0], ix[1]]\n",
    "    row +=1\n",
    "    \n",
    "    anom = anom.append(anomix)\n",
    "\n",
    "df = anom"
   ]
  },
  {
   "cell_type": "code",
   "execution_count": 13,
   "id": "6e533045",
   "metadata": {},
   "outputs": [],
   "source": [
    "# clean up dataframe before saving\n",
    "\n",
    "# get rid of indexing\n",
    "df = df.reset_index(drop=True)\n",
    "\n",
    "# drop unnecessary columns\n",
    "df = df.drop(['lat', 'lon', 'yr', 'Unnamed: 0'], axis=1)"
   ]
  },
  {
   "cell_type": "code",
   "execution_count": 14,
   "id": "4f052953",
   "metadata": {},
   "outputs": [],
   "source": [
    "# save anomaly file\n",
    "#spath = '/Users/demetrayancopoulos/Desktop/SML310/final_project/era5/final_input_data/'\n",
    "#df.to_excel(spath+sfile)"
   ]
  },
  {
   "cell_type": "code",
   "execution_count": null,
   "id": "618524d9",
   "metadata": {},
   "outputs": [],
   "source": []
  }
 ],
 "metadata": {
  "kernelspec": {
   "display_name": "Python 3",
   "language": "python",
   "name": "python3"
  },
  "language_info": {
   "codemirror_mode": {
    "name": "ipython",
    "version": 3
   },
   "file_extension": ".py",
   "mimetype": "text/x-python",
   "name": "python",
   "nbconvert_exporter": "python",
   "pygments_lexer": "ipython3",
   "version": "3.7.11"
  }
 },
 "nbformat": 4,
 "nbformat_minor": 5
}
