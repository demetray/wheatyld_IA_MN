{
 "cells": [
  {
   "cell_type": "code",
   "execution_count": 1,
   "id": "13e90ca5",
   "metadata": {},
   "outputs": [],
   "source": [
    "import xarray as xr\n",
    "import os \n",
    "import pandas as pd"
   ]
  },
  {
   "cell_type": "code",
   "execution_count": 2,
   "id": "35914b8e",
   "metadata": {},
   "outputs": [],
   "source": [
    "# function for rounding to nearest 1/4\n",
    "def x_rnd(x):\n",
    "    return round(x*4)/4"
   ]
  },
  {
   "cell_type": "code",
   "execution_count": 3,
   "id": "1c8e013b",
   "metadata": {},
   "outputs": [],
   "source": [
    "# path to annual wheat yields data\n",
    "path = '/Users/demetrayancopoulos/Desktop/SML310/final_project/gro_ylds/wheatf_mn_ia.xlsx'\n",
    "y = pd.read_excel(path)"
   ]
  },
  {
   "cell_type": "code",
   "execution_count": 4,
   "id": "9c439232",
   "metadata": {},
   "outputs": [],
   "source": [
    "# path to monthly relative humidity data\n",
    "path = '/Users/demetrayancopoulos/Desktop/SML310/final_project/era5/monthly/'\n",
    "\n",
    "# retrieve all files in dataset\n",
    "files = []\n",
    "for file in os.listdir(path):\n",
    "    if file.endswith('nc'):\n",
    "        files.append(os.path.join(path, file))\n",
    "\n",
    "# open files as xarray\n",
    "ds = xr.open_mfdataset(files)"
   ]
  },
  {
   "cell_type": "code",
   "execution_count": 18,
   "id": "6c36ceb5",
   "metadata": {},
   "outputs": [],
   "source": [
    "# store monthly mean uv at t/lat/lon where yield data is recorded\n",
    "cols = ['yr', 'lat', 'lon', 'jan', 'feb', 'mar', 'apr', 'may', 'jun', 'jul', 'aug', 'sep', 'oct', 'nov', 'dec']\n",
    "rh = pd.DataFrame(index = range(0, len(y.index)), columns=cols)\n",
    "\n",
    "for ix in y.index:\n",
    "    \n",
    "    lat = y.loc[ix].lat     # retrieve latitude at this entry\n",
    "    lat = x_rnd(lat)       # round lat coord to nearest 0.25\n",
    "    \n",
    "    lon = y.loc[ix].lon     # retrieve longitude at this entry\n",
    "    lon = x_rnd(lon)        # round lon coord to nearest 0.25\n",
    "    \n",
    "    yr = y.loc[ix].StartDate[0] + y.loc[ix].StartDate[1] + y.loc[ix].StartDate[2] + y.loc[ix].StartDate[3]\n",
    "    \n",
    "    # rh2m at this lat/lon\n",
    "    rh2m = ds.RH2m.sel(latitude=lat, longitude=lon)\n",
    "    \n",
    "    # store monthly mean uv\n",
    "    for i in range(1, 13):\n",
    "        t = yr + '-' + str(i)\n",
    "        rh.iat[ix, i+2] = rh2m.sel(time=t).compute().values[0]\n",
    "    \n",
    "    # store yr for this point\n",
    "    col = 0\n",
    "    rh.iat[ix, col] = yr\n",
    "    \n",
    "    # store latitude for this point\n",
    "    col = 1\n",
    "    rh.iat[ix, col] = lat\n",
    "    \n",
    "    # store longitude for this point\n",
    "    col = 2\n",
    "    rh.iat[ix, col] = lon\n",
    "\n",
    "#spath = '/Users/demetrayancopoulos/Desktop/SML310/final_project/monthly_rh_mean.xlsx'\n",
    "#rh.to_excel(spath)\n"
   ]
  },
  {
   "cell_type": "code",
   "execution_count": null,
   "id": "9bd93904",
   "metadata": {},
   "outputs": [],
   "source": []
  }
 ],
 "metadata": {
  "kernelspec": {
   "display_name": "Python 3",
   "language": "python",
   "name": "python3"
  },
  "language_info": {
   "codemirror_mode": {
    "name": "ipython",
    "version": 3
   },
   "file_extension": ".py",
   "mimetype": "text/x-python",
   "name": "python",
   "nbconvert_exporter": "python",
   "pygments_lexer": "ipython3",
   "version": "3.7.11"
  }
 },
 "nbformat": 4,
 "nbformat_minor": 5
}
